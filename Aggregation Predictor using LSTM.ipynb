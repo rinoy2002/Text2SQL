{
 "cells": [
  {
   "cell_type": "code",
   "execution_count": 1,
   "id": "3163cadc",
   "metadata": {},
   "outputs": [],
   "source": [
    "import torch\n",
    "import torch.nn as nn\n",
    "import numpy as np\n",
    "from utils.utils import load_data_set, gen_batch_sequence\n",
    "from model.wordEmbedding import WordEmbedding\n",
    "\n",
    "from tqdm import tqdm\n",
    "import gc\n",
    "from datetime import datetime\n",
    "import matplotlib.pyplot as plt\n",
    "from types import GeneratorType"
   ]
  },
  {
   "cell_type": "code",
   "execution_count": 3,
   "id": "6d10a276",
   "metadata": {},
   "outputs": [],
   "source": [
    "# TODO: add this to utils function\n",
    "def create_toy_dataset(actual_queries, table_data, num_samples):\n",
    "    idx_list = np.random.permutation(len(actual_queries))[:num_samples]\n",
    "    toy_queries = list(actual_queries[x] for x in idx_list)\n",
    "    toy_tables = {}\n",
    "    for x in range(num_samples):\n",
    "        toy_tables[toy_queries[x]['table_id']] = table_data[toy_queries[x]['table_id']]\n",
    "    return toy_queries, toy_tables\n",
    "\n",
    "#sample_queries, sample_tables = create_toy_dataset(train_queries,train_table,500)\n"
   ]
  },
  {
   "cell_type": "code",
   "execution_count": 4,
   "id": "a2d535aa",
   "metadata": {},
   "outputs": [
    {
     "name": "stdout",
     "output_type": "stream",
     "text": [
      "Loading train dataset\n",
      "Loaded 56355 queries and 18585 tables\n"
     ]
    }
   ],
   "source": [
    "train_query, train_table = load_data_set('train')"
   ]
  },
  {
   "cell_type": "code",
   "execution_count": 5,
   "id": "74c1f323",
   "metadata": {},
   "outputs": [],
   "source": [
    "selected_query_id = [34,56,12,43] #random\n",
    "ret_tup = gen_batch_sequence(train_query,train_table,selected_query_id, 0, len(selected_query_id))"
   ]
  },
  {
   "cell_type": "code",
   "execution_count": 6,
   "id": "404ced24",
   "metadata": {},
   "outputs": [
    {
     "name": "stdout",
     "output_type": "stream",
     "text": [
      "[['during', 'which', 'years', 'was', 'marcus', 'banks', 'in', 'toronto', '?'], ['what', 'is', 'the', 'canton', 'of', 'grande', 'dixence', '?'], ['what', 'school', 'did', 'player', 'number', '6', 'come', 'from', '?'], ['what', 'time', 'was', 'the', 'highest', 'for', '2nd', 'finishers', '?']]\n"
     ]
    }
   ],
   "source": [
    "batch_query = ret_tup[0]\n",
    "batch_table = ret_tup[1]\n",
    "gt_quety = ret_tup[4]\n",
    "print(batch_query)"
   ]
  },
  {
   "cell_type": "code",
   "execution_count": 7,
   "id": "73519a39",
   "metadata": {},
   "outputs": [
    {
     "name": "stderr",
     "output_type": "stream",
     "text": [
      "Some weights of the model checkpoint at bert-base-uncased were not used when initializing BertModel: ['cls.predictions.bias', 'cls.predictions.transform.dense.weight', 'cls.predictions.decoder.weight', 'cls.predictions.transform.LayerNorm.weight', 'cls.seq_relationship.bias', 'cls.predictions.transform.dense.bias', 'cls.predictions.transform.LayerNorm.bias', 'cls.seq_relationship.weight']\n",
      "- This IS expected if you are initializing BertModel from the checkpoint of a model trained on another task or with another architecture (e.g. initializing a BertForSequenceClassification model from a BertForPreTraining model).\n",
      "- This IS NOT expected if you are initializing BertModel from the checkpoint of a model that you expect to be exactly identical (initializing a BertForSequenceClassification model from a BertForSequenceClassification model).\n"
     ]
    }
   ],
   "source": [
    "word_emb = WordEmbedding('bert-base-uncased')"
   ]
  },
  {
   "cell_type": "code",
   "execution_count": 8,
   "id": "38d2ca2c",
   "metadata": {},
   "outputs": [
    {
     "name": "stdout",
     "output_type": "stream",
     "text": [
      "768\n"
     ]
    }
   ],
   "source": [
    "print(word_emb.bert_model.config.hidden_size)"
   ]
  },
  {
   "cell_type": "code",
   "execution_count": 9,
   "id": "eec46ba6",
   "metadata": {},
   "outputs": [
    {
     "name": "stdout",
     "output_type": "stream",
     "text": [
      "[('During which years was Marcus Banks in Toronto?', ['Player', 'No.', 'Nationality', 'Position', 'Years in Toronto', 'School/Club Team'], 'SELECT years in toronto FROM table_ WHERE player EQL marcus banks'), ('What is the canton of grande dixence?', ['Name', 'Canton', 'Height (meters)', 'Crest length (meters)', 'Type', 'Year of construction', 'Name of the Lake'], 'SELECT canton FROM table_ WHERE name EQL grande dixence'), ('What school did player number 6 come from?', ['Player', 'No.', 'Nationality', 'Position', 'Years in Toronto', 'School/Club Team'], 'SELECT school/club team FROM table_ WHERE no . EQL 6'), ('What time was the highest for 2nd finishers?', ['Year', 'Tournaments played', 'Cuts made*', 'Wins', '2nd', 'Top 10s', 'Best finish', 'Earnings ($)', 'Money list rank', 'Scoring average', 'Scoring rank'], 'SELECT max ( 2nd ) FROM table_ WHERE')]\n"
     ]
    }
   ],
   "source": [
    "q_seq, col_seq, col_num, ans_seq, query_seq, ground_truth_cond_seq, raw_data = \\\n",
    "        gen_batch_sequence(train_query, train_table,selected_query_id,0,len(selected_query_id))\n",
    "print(raw_data)"
   ]
  },
  {
   "cell_type": "markdown",
   "id": "99fba1c1",
   "metadata": {},
   "source": [
    "## Function for running LSTM "
   ]
  },
  {
   "cell_type": "code",
   "execution_count": 10,
   "id": "e6909140",
   "metadata": {},
   "outputs": [
    {
     "data": {
      "text/plain": [
       "torch.Size([4, 47, 768])"
      ]
     },
     "execution_count": 10,
     "metadata": {},
     "output_type": "execute_result"
    }
   ],
   "source": [
    "bert_op, input_lens = word_emb.gen_x_batch(batch_query, batch_table)\n",
    "x_emb = bert_op.last_hidden_state\n",
    "x_emb.shape"
   ]
  },
  {
   "cell_type": "code",
   "execution_count": 11,
   "id": "2061717a",
   "metadata": {},
   "outputs": [
    {
     "data": {
      "text/plain": [
       "torch.Size([4, 768])"
      ]
     },
     "execution_count": 11,
     "metadata": {},
     "output_type": "execute_result"
    }
   ],
   "source": [
    "bert_op.pooler_output.shape"
   ]
  },
  {
   "cell_type": "code",
   "execution_count": 12,
   "id": "d289c417",
   "metadata": {},
   "outputs": [
    {
     "data": {
      "text/plain": [
       "LSTM(768, 50, num_layers=4, bidirectional=True)"
      ]
     },
     "execution_count": 12,
     "metadata": {},
     "output_type": "execute_result"
    }
   ],
   "source": [
    "lstm = nn.LSTM(768,hidden_size = 100//2, num_layers = 4,bidirectional=True)\n",
    "\n",
    "lstm.to(\"cuda\")"
   ]
  },
  {
   "cell_type": "code",
   "execution_count": 13,
   "id": "475e790a",
   "metadata": {},
   "outputs": [],
   "source": [
    "h_n, (c_fwd, c_rev) = lstm(x_emb)"
   ]
  },
  {
   "cell_type": "code",
   "execution_count": 14,
   "id": "3ccf8830",
   "metadata": {},
   "outputs": [
    {
     "name": "stdout",
     "output_type": "stream",
     "text": [
      "h_n: torch.Size([4, 47, 100])\n",
      "c_wd: torch.Size([8, 47, 50])\n",
      "c_rev: torch.Size([8, 47, 50])\n"
     ]
    }
   ],
   "source": [
    "print(f\"h_n: {h_n.shape}\\nc_wd: {c_fwd.shape}\\nc_rev: {c_rev.shape}\")"
   ]
  },
  {
   "cell_type": "code",
   "execution_count": 15,
   "id": "6931dc67",
   "metadata": {},
   "outputs": [],
   "source": [
    "#  in the code for the reference paper they sorted the inputs (acc. to the size)\n",
    "# TODO: Clean this function: \n",
    "def run_lstm(lstm, inp, inp_length, prev_hidden=None):\n",
    "    '''\n",
    "    Input: This function takes in 3 arguments \n",
    "        lstm : the name of the lstm variable that needs to be run\n",
    "        inp  : the input in the for [Batch size , num_tok, last_layer]\n",
    "        inp_length: an array that contains the length of each element in the batch size = batch size\n",
    "        pre_hidden: hidden layer values of the previous lstm layer\n",
    "    \n",
    "    Ouptut: \n",
    "        Same as torch.nn.LSTM\n",
    "    '''\n",
    "    if prev_hidden != None:\n",
    "        ret_h, ret_c = lstm(inp,prev_hidden)\n",
    "    else: \n",
    "        ret_h, ret_c = lstm(inp)\n",
    "    return ret_h, ret_c"
   ]
  },
  {
   "cell_type": "markdown",
   "id": "49713437",
   "metadata": {},
   "source": [
    "## Attention layer"
   ]
  },
  {
   "cell_type": "code",
   "execution_count": 16,
   "id": "52409987",
   "metadata": {},
   "outputs": [
    {
     "name": "stdout",
     "output_type": "stream",
     "text": [
      "torch.Size([6])\n"
     ]
    }
   ],
   "source": [
    "x = torch.tensor([[1,2,3,4,5,6]])\n",
    "x = x.squeeze()\n",
    "print(x.shape)"
   ]
  },
  {
   "cell_type": "code",
   "execution_count": 17,
   "id": "426da097",
   "metadata": {},
   "outputs": [
    {
     "data": {
      "text/plain": [
       "torch.Size([3, 2, 4])"
      ]
     },
     "execution_count": 17,
     "metadata": {},
     "output_type": "execute_result"
    }
   ],
   "source": [
    "x = torch.tensor([[[1,2,3,4],\n",
    "                  [5,6,7,8]],\n",
    "                [[9,10,11,12],\n",
    "                 [13,14,15,16]],\n",
    "                [[9,10,11,12],\n",
    "                 [13,14,15,16]]]).to('cuda')\n",
    "x.shape"
   ]
  },
  {
   "cell_type": "code",
   "execution_count": 18,
   "id": "363cf687",
   "metadata": {},
   "outputs": [],
   "source": [
    "num_hidden = 100"
   ]
  },
  {
   "cell_type": "markdown",
   "id": "6237597f",
   "metadata": {},
   "source": [
    "### Scalar attention score"
   ]
  },
  {
   "cell_type": "code",
   "execution_count": 19,
   "id": "54216a89",
   "metadata": {},
   "outputs": [],
   "source": [
    "scalar_attention = nn.Linear(num_hidden, 1).to(\"cuda\")"
   ]
  },
  {
   "cell_type": "code",
   "execution_count": 20,
   "id": "2e1f9d7f",
   "metadata": {},
   "outputs": [
    {
     "name": "stdout",
     "output_type": "stream",
     "text": [
      "torch.Size([4, 47])\n"
     ]
    }
   ],
   "source": [
    "att_val = scalar_attention(h_n)\n",
    "att_val = att_val.squeeze()\n",
    "print(att_val.shape)"
   ]
  },
  {
   "cell_type": "code",
   "execution_count": 21,
   "id": "13f3b79e",
   "metadata": {},
   "outputs": [],
   "source": [
    "max_x_len = max(input_lens)\n",
    "for idx, num in enumerate(input_lens): # reduce the importance of 0 values\n",
    "    if num < max_x_len:\n",
    "        att_val[idx,num:] = -100"
   ]
  },
  {
   "cell_type": "code",
   "execution_count": 22,
   "id": "bab90e73",
   "metadata": {},
   "outputs": [
    {
     "name": "stdout",
     "output_type": "stream",
     "text": [
      "torch.Size([4, 47])\n"
     ]
    }
   ],
   "source": [
    "softmax = nn.Softmax(dim = 1) # Probability distribution for the attention values\n",
    "att = softmax(att_val)\n",
    "print(att.shape)\n",
    "\n",
    "for x in att:\n",
    "    if not int(x.sum().tolist()) == 1 :\n",
    "        print(x.sum())"
   ]
  },
  {
   "cell_type": "code",
   "execution_count": 23,
   "id": "2e283483",
   "metadata": {},
   "outputs": [
    {
     "name": "stdout",
     "output_type": "stream",
     "text": [
      "torch.Size([4, 47])\n"
     ]
    }
   ],
   "source": [
    "print(att.shape)"
   ]
  },
  {
   "cell_type": "code",
   "execution_count": 24,
   "id": "bfd01bf0",
   "metadata": {},
   "outputs": [
    {
     "name": "stdout",
     "output_type": "stream",
     "text": [
      "torch.Size([4, 47, 100])\n",
      "torch.Size([4, 47, 100])\n",
      "torch.Size([4, 100])\n"
     ]
    }
   ],
   "source": [
    "print(h_n.shape)\n",
    "att_matrix = att.unsqueeze(2).expand_as(h_n)\n",
    "print(att_matrix.shape)\n",
    "K_agg = (h_n*att_matrix).sum(1)\n",
    "print(K_agg.shape)"
   ]
  },
  {
   "cell_type": "code",
   "execution_count": 25,
   "id": "7c7cd356",
   "metadata": {},
   "outputs": [
    {
     "name": "stdout",
     "output_type": "stream",
     "text": [
      "torch.Size([47, 100])\n"
     ]
    }
   ],
   "source": [
    "print(att_matrix[0].shape)"
   ]
  },
  {
   "cell_type": "code",
   "execution_count": 26,
   "id": "bd7cda90",
   "metadata": {},
   "outputs": [],
   "source": [
    "agg_out = nn.Sequential(\n",
    "            nn.Linear(num_hidden,num_hidden),\n",
    "            nn.Tanh(),\n",
    "            nn.Linear(num_hidden, 6)\n",
    ").to('cuda')"
   ]
  },
  {
   "cell_type": "code",
   "execution_count": 27,
   "id": "36b12a91",
   "metadata": {},
   "outputs": [
    {
     "name": "stdout",
     "output_type": "stream",
     "text": [
      "tensor([[ 0.0654, -0.0140, -0.1239, -0.0559, -0.0248, -0.1778],\n",
      "        [ 0.0622, -0.0097, -0.1250, -0.0575, -0.0286, -0.1784],\n",
      "        [ 0.0599, -0.0035, -0.1246, -0.0596, -0.0332, -0.1779],\n",
      "        [ 0.0586,  0.0041, -0.1215, -0.0637, -0.0393, -0.1752]],\n",
      "       device='cuda:0', grad_fn=<AddmmBackward0>)\n"
     ]
    }
   ],
   "source": [
    "agg_score = agg_out(K_agg)\n",
    "print(agg_score)"
   ]
  },
  {
   "cell_type": "markdown",
   "id": "733c20c3",
   "metadata": {},
   "source": [
    "## Class for aggregation predictor"
   ]
  },
  {
   "cell_type": "code",
   "execution_count": 38,
   "id": "8eae0348",
   "metadata": {},
   "outputs": [],
   "source": [
    "class AggregationPredictor(nn.Module):\n",
    "    def __init__(self,input_layer,hidden_size,num_layers,gpu):\n",
    "        super(AggregationPredictor,self).__init__()\n",
    "        self.agg_lstm = nn.LSTM(input_size=input_layer, hidden_size=hidden_size // 2,\n",
    "                                num_layers=num_layers, batch_first=True,\n",
    "                                dropout=0.3, bidirectional=True)\n",
    "        \n",
    "        self.agg_att = nn.Linear(in_features=hidden_size, out_features=1)\n",
    "        self.soft_max = nn.Softmax(dim = 1)\n",
    "        self.agg_out = nn.Sequential(\n",
    "            nn.Linear(in_features = hidden_size, out_features=hidden_size),\n",
    "            nn.Tanh(),\n",
    "            nn.Linear(in_features = hidden_size, out_features = 6)\n",
    "        )\n",
    "        \n",
    "        if(gpu):\n",
    "            self.agg_lstm = self.agg_lstm.to('cuda')\n",
    "            self.agg_att  = self.agg_att.to('cuda')\n",
    "            self.soft_max = self.soft_max.to('cuda')\n",
    "            self.agg_out  = self.agg_out.to('cuda')\n",
    "    \n",
    "    def forward(self,x_input, x_len):\n",
    "        B = len(x_len)\n",
    "        max_len = max(x_len)\n",
    "        h_n, _ = run_lstm(self.agg_lstm, x_input, x_len) # [B * longestinput * hidden_size] \n",
    "        \n",
    "        #calculate the scalar attention score. [scalar, since one value for each input word.]\n",
    "        att_val = self.agg_att(h_n)  #[B * longest_input * 1]\n",
    "        att_val = att_val.squeeze()  #[B* longest_input]\n",
    "        #print(x_len)\n",
    "        for index, l in enumerate(x_len):\n",
    "            if(l<max_len):\n",
    "                att_val[index][l:] = -100\n",
    "        \n",
    "        att_prob_dist = self.soft_max(att_val,) #[B * longest_input]\n",
    "        att_prob_dist = att_prob_dist.unsqueeze(2).expand_as(h_n) #[B * longest_input * hidden_size]\n",
    "        K_agg = (h_n* att_prob_dist).sum(1) #[B * longest_input]\n",
    "        agg_score = self.agg_out(K_agg) #[B * 6]\n",
    "        return agg_score       "
   ]
  },
  {
   "cell_type": "code",
   "execution_count": 121,
   "id": "e423a7c3",
   "metadata": {},
   "outputs": [],
   "source": [
    "class Seq2SQL(nn.Module):\n",
    "    def __init__(self, bert_model_name, hidden_size, num_depth ):\n",
    "        super(Seq2SQL,self).__init__()\n",
    "        \n",
    "        self.gpu = torch.cuda.is_available()\n",
    "        if(hidden_size&1!=0):\n",
    "            raise ValueError('hidden size must be even, since this is a bidirectional network')\n",
    "        self.hidden_size = hidden_size\n",
    "        \n",
    "        self.word_emb   = WordEmbedding(bert_model_name)\n",
    "        self.word_emb_size = self.word_emb.bert_model.config.hidden_size\n",
    "        self.aggregator = AggregationPredictor(input_layer=self.word_emb_size, \n",
    "                                               hidden_size=hidden_size,num_layers = num_depth,gpu=True)\n",
    "        self.CE = nn.CrossEntropyLoss()\n",
    "        if(torch.cuda.is_available):\n",
    "            self.to('cuda')\n",
    "        \n",
    "    def forward(self,queries, col):\n",
    "        x_embed, x_lengths = self.word_emb.gen_x_batch(q_batch=queries,col_batch=col)\n",
    "        \n",
    "        agg_score = self.aggregator(x_embed.last_hidden_state, x_lengths)\n",
    "        \n",
    "        return (agg_score,)\n",
    "    \n",
    "    # TODO: clean this loss funtion\n",
    "    def loss(self, score, truth_num):\n",
    "        agg_score = score[0]\n",
    "        loss = 0\n",
    "        agg_truth = list(map(lambda x: x[0], truth_num))\n",
    "        data = torch.from_numpy(np.array(agg_truth))\n",
    "        if self.gpu:\n",
    "            agg_truth_var = data.cuda()\n",
    "        else:\n",
    "            agg_truth_var = data\n",
    "\n",
    "        loss += self.CE(agg_score, agg_truth_var.long())\n",
    "        return loss   \n",
    "    \n",
    "    def gen_query(self, score,query_batch, col_batch, raw_query, raw_col):\n",
    "        agg_score = score[0]\n",
    "        B= len(query_batch)\n",
    "        agg_pred = np.argmax(agg_score.data.cpu().numpy(),axis = 1)\n",
    "        pred_queries = []\n",
    "        for i in range(len(agg_pred)):\n",
    "            pred_queries.append({'agg':agg_pred[i]})\n",
    "\n",
    "        return pred_queries\n",
    "    \n",
    "    def check_accuracy(self,pred_queries, ground_truth_queries):\n",
    "        tot_err = agg_err = 0\n",
    "        \n",
    "        for b,(pred_qry, ground_truth_qry) in enumerate(zip(pred_queries, ground_truth_queries)):\n",
    "            good = True\n",
    "            \n",
    "            agg_pred = pred_qry['agg']\n",
    "            agg_gt = ground_truth_qry['agg']\n",
    "            if agg_pred != agg_gt:\n",
    "                agg_err += 1\n",
    "                good = False\n",
    "            \n",
    "            if good == False:\n",
    "                tot_err += 1\n",
    "        \n",
    "        return np.array((agg_err)), tot_err           "
   ]
  },
  {
   "cell_type": "code",
   "execution_count": 182,
   "id": "9077b90f",
   "metadata": {},
   "outputs": [
    {
     "name": "stdout",
     "output_type": "stream",
     "text": [
      "Loading train dataset\n",
      "Loaded 56355 queries and 18585 tables\n",
      "Loading dev dataset\n",
      "Loaded 8421 queries and 2716 tables\n"
     ]
    }
   ],
   "source": [
    "train_queries, train_tables = load_data_set('train')\n",
    "val_queries, val_tables = load_data_set('dev')\n",
    "\n",
    "#train_queries, train_tables = create_toy_dataset(train_queries, train_tables,500)"
   ]
  },
  {
   "cell_type": "markdown",
   "id": "dc485379",
   "metadata": {},
   "source": [
    "## Function for training the model"
   ]
  },
  {
   "cell_type": "code",
   "execution_count": 31,
   "id": "122da03e",
   "metadata": {},
   "outputs": [],
   "source": [
    "def epoch_train(model, optimizer,batch_size, sql_queries, table_data):\n",
    "    model.train()\n",
    "    num_queries = len(sql_queries)\n",
    "    perm = np.random.permutation(num_queries)\n",
    "    cumulative_loss = 0.0\n",
    "    start = 0\n",
    "\n",
    "    while start< num_queries:\n",
    "        end = start + batch_size if start + batch_size < len(perm) else len(perm)\n",
    "\n",
    "        q_seq, col_seq, col_num, ans_seq, query_seq, ground_truth_cond_seq, raw_data = \\\n",
    "            gen_batch_sequence(sql_queries, table_data, perm, start, end)\n",
    "        \n",
    "        score = model.forward(q_seq, col_seq)\n",
    "        loss = model.loss(score,ans_seq)\n",
    "        cumulative_loss += loss.data.cpu().numpy() * (end - start)\n",
    "        optimizer.zero_grad()\n",
    "        loss.backward()\n",
    "        \n",
    "        optimizer.step()\n",
    "        \n",
    "        start = end\n",
    "    return loss"
   ]
  },
  {
   "cell_type": "code",
   "execution_count": 33,
   "id": "b0243c69",
   "metadata": {},
   "outputs": [],
   "source": [
    "def generate_batch_query(sql_data, idx, start, end):\n",
    "    query_gt = []\n",
    "    table_id = []\n",
    "    for i in range(start,end):\n",
    "        query_gt.append(sql_data[idx[i]]['sql'])\n",
    "        table_id.append(sql_data[idx[i]]['table_id'])\n",
    "    return query_gt, table_id"
   ]
  },
  {
   "cell_type": "markdown",
   "id": "82d931fc",
   "metadata": {},
   "source": [
    "## Function for finding the accuracy of the model"
   ]
  },
  {
   "cell_type": "code",
   "execution_count": 34,
   "id": "9ceca3d7",
   "metadata": {},
   "outputs": [],
   "source": [
    "def epoch_acc(model, batch_size, sql_data, table_data, save_results = False):\n",
    "    model.eval()\n",
    "    perm = list(range(len(sql_data)))\n",
    "    start = 0\n",
    "    one_acc_num = 0.0\n",
    "    tot_acc_num = 0.0\n",
    "    while start < len(sql_data):\n",
    "        end = start + batch_size if start + batch_size < len(perm) else len(perm)\n",
    "\n",
    "        q_seq, col_seq, col_num, ans_seq, query_seq, ground_truth_cond_seq, raw_data =\\\n",
    "            gen_batch_sequence(sql_data, table_data, perm, start, end)\n",
    "        \n",
    "        raw_q_seq = [x[0] for x in raw_data]\n",
    "        raw_col_seq = [x[1] for x in raw_data]\n",
    "        \n",
    "        query_gt, table_ids = generate_batch_query(sql_data, perm, start, end)\n",
    "        ground_truth_sel_seq = [x[1] for x in ans_seq]\n",
    "        \n",
    "        score = model.forward(q_seq, col_seq, )\n",
    "        pred_queries = model.gen_query(score, q_seq, col_seq,\n",
    "                                       raw_q_seq, raw_col_seq)\n",
    "        one_err, tot_err = model.check_accuracy(pred_queries, query_gt)\n",
    "        \n",
    "        one_acc_num += (end - start - one_err)\n",
    "        tot_acc_num += (end - start - tot_err)\n",
    "        \n",
    "        start = end\n",
    "        \n",
    "    return tot_acc_num/ len(sql_data), one_acc_num/len(sql_data)\n",
    "#         if save_results:\n",
    "#             model.save_readable_results(pred_queries, query_gt, table_ids, table_data)"
   ]
  },
  {
   "cell_type": "markdown",
   "id": "5e7d1770",
   "metadata": {},
   "source": [
    "## Training the model"
   ]
  },
  {
   "cell_type": "code",
   "execution_count": 183,
   "id": "035eb3f7",
   "metadata": {},
   "outputs": [
    {
     "name": "stderr",
     "output_type": "stream",
     "text": [
      "Some weights of the model checkpoint at bert-base-uncased were not used when initializing BertModel: ['cls.predictions.bias', 'cls.predictions.transform.dense.weight', 'cls.predictions.decoder.weight', 'cls.predictions.transform.LayerNorm.weight', 'cls.seq_relationship.bias', 'cls.predictions.transform.dense.bias', 'cls.predictions.transform.LayerNorm.bias', 'cls.seq_relationship.weight']\n",
      "- This IS expected if you are initializing BertModel from the checkpoint of a model trained on another task or with another architecture (e.g. initializing a BertForSequenceClassification model from a BertForPreTraining model).\n",
      "- This IS NOT expected if you are initializing BertModel from the checkpoint of a model that you expect to be exactly identical (initializing a BertForSequenceClassification model from a BertForSequenceClassification model).\n"
     ]
    }
   ],
   "source": [
    "LEARNING_RATE = 1e-6\n",
    "TRAINING_EPOCHS = 100\n",
    "BATCH_SIZE = 128\n",
    "\n",
    "# try:\n",
    "#     torch.save(model.state_dict(), 'model_weights.pth')\n",
    "#     #w = model.named_parameters()\n",
    "#     model = Seq2SQL('bert-base-uncased',100,2)\n",
    "#     model.load_state_dict(torch.load('model_weights.pth'))\n",
    "#     torch.cuda.empty_cache()\n",
    "#     gc.collect()\n",
    "# except NameError:\n",
    "#     print(\"Model doesnt exist\")\n",
    "#     model = Seq2SQL('bert-base-uncased',100,2)\n",
    "    \n",
    "model = Seq2SQL('bert-base-uncased',100,2)\n",
    "optimizer = torch.optim.Adam(model.parameters(),lr=LEARNING_RATE)\n"
   ]
  },
  {
   "cell_type": "code",
   "execution_count": 184,
   "id": "1324e6d8",
   "metadata": {},
   "outputs": [
    {
     "name": "stdout",
     "output_type": "stream",
     "text": [
      "Epoch 1\n",
      "Loss : 1.7168498039245605\n",
      "(0.6814302191464822, 0.6814302191464822)\n",
      "Epoch 2\n",
      "Loss : 1.674665093421936\n",
      "(0.7191198651406264, 0.7191198651406264)\n",
      "Epoch 3\n",
      "Loss : 1.6418063640594482\n",
      "(0.720521692840032, 0.720521692840032)\n",
      "Epoch 4\n",
      "Loss : 1.6014479398727417\n",
      "(0.7205394374944548, 0.7205394374944548)\n",
      "Epoch 5\n",
      "Loss : 1.4808412790298462\n",
      "(0.7205394374944548, 0.7205394374944548)\n",
      "Epoch 6\n",
      "Loss : 1.3928695917129517\n",
      "(0.7205394374944548, 0.7205394374944548)\n",
      "Epoch 7\n",
      "Loss : 1.3058518171310425\n",
      "(0.7205394374944548, 0.7205394374944548)\n",
      "Epoch 8\n",
      "Loss : 1.162513017654419\n",
      "(0.7205394374944548, 0.7205394374944548)\n",
      "Epoch 9\n",
      "Loss : 1.006022334098816\n",
      "(0.7205394374944548, 0.7205394374944548)\n",
      "Epoch 10\n",
      "Loss : 1.0644055604934692\n",
      "(0.7205394374944548, 0.7205394374944548)\n",
      "Epoch 11\n",
      "Loss : 1.1275320053100586\n",
      "(0.7205394374944548, 0.7205394374944548)\n",
      "Epoch 12\n",
      "Loss : 1.2178999185562134\n",
      "(0.7205394374944548, 0.7205394374944548)\n",
      "Epoch 13\n",
      "Loss : 0.9003942608833313\n",
      "(0.7205394374944548, 0.7205394374944548)\n",
      "Epoch 14\n",
      "Loss : 1.0959352254867554\n",
      "(0.7205394374944548, 0.7205394374944548)\n",
      "Epoch 15\n",
      "Loss : 1.0802417993545532\n",
      "(0.7205394374944548, 0.7205394374944548)\n",
      "Epoch 16\n",
      "Loss : 0.8411316871643066\n",
      "(0.7205394374944548, 0.7205394374944548)\n",
      "Epoch 17\n",
      "Loss : 1.479624629020691\n",
      "(0.7205394374944548, 0.7205394374944548)\n",
      "Epoch 18\n",
      "Loss : 1.3493767976760864\n",
      "(0.7205394374944548, 0.7205394374944548)\n",
      "Epoch 19\n",
      "Loss : 0.910593569278717\n",
      "(0.7205394374944548, 0.7205394374944548)\n",
      "Epoch 20\n",
      "Loss : 1.1458094120025635\n",
      "(0.7205394374944548, 0.7205394374944548)\n",
      "Epoch 21\n",
      "Loss : 1.06712007522583\n",
      "(0.7205394374944548, 0.7205394374944548)\n",
      "Epoch 22\n",
      "Loss : 0.8229115605354309\n",
      "(0.7205394374944548, 0.7205394374944548)\n",
      "Epoch 23\n",
      "Loss : 1.0832717418670654\n",
      "(0.7205394374944548, 0.7205394374944548)\n",
      "Epoch 24\n",
      "Loss : 1.0883032083511353\n",
      "(0.7205394374944548, 0.7205394374944548)\n",
      "Epoch 25\n",
      "Loss : 0.7439174056053162\n",
      "(0.7205394374944548, 0.7205394374944548)\n",
      "Epoch 26\n",
      "Loss : 0.8788402676582336\n",
      "(0.7205394374944548, 0.7205394374944548)\n",
      "Epoch 27\n",
      "Loss : 0.8714542984962463\n",
      "(0.7205394374944548, 0.7205394374944548)\n",
      "Epoch 28\n",
      "Loss : 1.0199791193008423\n",
      "(0.7205394374944548, 0.7205394374944548)\n",
      "Epoch 29\n",
      "Loss : 1.1627787351608276\n",
      "(0.7205394374944548, 0.7205394374944548)\n",
      "Epoch 30\n",
      "Loss : 0.7805125117301941\n",
      "(0.7205394374944548, 0.7205394374944548)\n",
      "Epoch 31\n",
      "Loss : 0.8807960748672485\n",
      "(0.7205394374944548, 0.7205394374944548)\n",
      "Epoch 32\n",
      "Loss : 1.2494457960128784\n",
      "(0.7205394374944548, 0.7205394374944548)\n",
      "Epoch 33\n",
      "Loss : 0.8636385202407837\n",
      "(0.7205394374944548, 0.7205394374944548)\n",
      "Epoch 34\n",
      "Loss : 1.3248379230499268\n",
      "(0.7205394374944548, 0.7205394374944548)\n",
      "Epoch 35\n",
      "Loss : 1.0663492679595947\n",
      "(0.7205394374944548, 0.7205394374944548)\n",
      "Epoch 36\n",
      "Loss : 1.0861183404922485\n",
      "(0.7205394374944548, 0.7205394374944548)\n",
      "Epoch 37\n",
      "Loss : 1.300915241241455\n",
      "(0.7205394374944548, 0.7205394374944548)\n",
      "Epoch 38\n",
      "Loss : 1.0387957096099854\n",
      "(0.7205749268033005, 0.7205749268033005)\n",
      "Epoch 39\n",
      "Loss : 1.2281094789505005\n",
      "(0.7207346286931062, 0.7207346286931062)\n",
      "Epoch 40\n",
      "Loss : 0.9765101671218872\n",
      "(0.7211072664359861, 0.7211072664359861)\n",
      "Epoch 41\n",
      "Loss : 0.9378461837768555\n",
      "(0.7217993079584775, 0.7217993079584775)\n",
      "Epoch 42\n",
      "Loss : 1.1413596868515015\n",
      "(0.7229172211871174, 0.7229172211871174)\n",
      "Epoch 43\n",
      "Loss : 1.011901617050171\n",
      "(0.7236624966728773, 0.7236624966728773)\n",
      "Epoch 44\n",
      "Loss : 0.749576210975647\n",
      "(0.7246916866294029, 0.7246916866294029)\n",
      "Epoch 45\n",
      "Loss : 0.8848734498023987\n",
      "(0.7254724514240085, 0.7254724514240085)\n",
      "Epoch 46\n",
      "Loss : 0.9720608592033386\n",
      "(0.7259870464022713, 0.7259870464022713)\n",
      "Epoch 47\n",
      "Loss : 0.7956306338310242\n",
      "(0.7265193860349569, 0.7265193860349569)\n",
      "Epoch 48\n",
      "Loss : 0.9177931547164917\n",
      "(0.7272824061751397, 0.7272824061751397)\n",
      "Epoch 49\n",
      "Loss : 0.7746714949607849\n",
      "(0.7281164049330139, 0.7281164049330139)\n",
      "Epoch 50\n",
      "Loss : 0.7456502914428711\n",
      "(0.7282938514772425, 0.7282938514772425)\n",
      "Epoch 51\n",
      "Loss : 0.7613096833229065\n",
      "(0.7287019785289681, 0.7287019785289681)\n",
      "Epoch 52\n",
      "Loss : 1.0285499095916748\n",
      "(0.7291988288528081, 0.7291988288528081)\n",
      "Epoch 53\n",
      "Loss : 0.9522808790206909\n",
      "(0.7295182326324194, 0.7295182326324194)\n",
      "Epoch 54\n",
      "Loss : 0.7238112092018127\n",
      "(0.7295359772868424, 0.7295359772868424)\n",
      "Epoch 55\n",
      "Loss : 0.9660565853118896\n",
      "(0.7300150829562594, 0.7300150829562594)\n",
      "Epoch 56\n",
      "Loss : 0.9025300741195679\n",
      "(0.7303522313902937, 0.7303522313902937)\n",
      "Epoch 57\n",
      "Loss : 0.97395259141922\n",
      "(0.7306184012066365, 0.7306184012066365)\n",
      "Epoch 58\n",
      "Loss : 0.41287437081336975\n",
      "(0.7306893798243279, 0.7306893798243279)\n",
      "Epoch 59\n",
      "Loss : 0.9829128980636597\n",
      "(0.7311152515304764, 0.7311152515304764)\n",
      "Epoch 60\n",
      "Loss : 1.0634286403656006\n",
      "(0.7314346553100879, 0.7314346553100879)\n",
      "Epoch 61\n",
      "Loss : 0.44427523016929626\n",
      "(0.7317185697808535, 0.7317185697808535)\n",
      "Epoch 62\n",
      "Loss : 0.8913090825080872\n",
      "(0.7322331647591163, 0.7322331647591163)\n",
      "Epoch 63\n",
      "Loss : 0.9383370280265808\n",
      "(0.7325880578475734, 0.7325880578475734)\n",
      "Epoch 64\n",
      "Loss : 1.1751927137374878\n",
      "(0.7330316742081447, 0.7330316742081447)\n",
      "Epoch 65\n",
      "Loss : 0.616980254650116\n",
      "(0.7335817584952533, 0.7335817584952533)\n",
      "Epoch 66\n",
      "Loss : 1.1663529872894287\n",
      "(0.7339721408925561, 0.7339721408925561)\n",
      "Epoch 67\n",
      "Loss : 0.8616390824317932\n",
      "(0.7345577144885104, 0.7345577144885104)\n",
      "Epoch 68\n",
      "Loss : 0.8775537014007568\n",
      "(0.7354272025552302, 0.7354272025552302)\n",
      "Epoch 69\n",
      "Loss : 0.9806116223335266\n",
      "(0.7358708189158016, 0.7358708189158016)\n",
      "Epoch 70\n",
      "Loss : 1.1100718975067139\n",
      "(0.7362789459675273, 0.7362789459675273)\n",
      "Epoch 71\n",
      "Loss : 0.7211934328079224\n",
      "(0.7368645195634815, 0.7368645195634815)\n",
      "Epoch 72\n",
      "Loss : 0.6594086289405823\n",
      "(0.73753881643155, 0.73753881643155)\n",
      "Epoch 73\n",
      "Loss : 0.7880557179450989\n",
      "(0.7382840919173099, 0.7382840919173099)\n",
      "Epoch 74\n",
      "Loss : 0.6596963405609131\n",
      "(0.7388696655132642, 0.7388696655132642)\n",
      "Epoch 75\n",
      "Loss : 0.6935533285140991\n",
      "(0.7393132818738355, 0.7393132818738355)\n",
      "Epoch 76\n",
      "Loss : 0.8659198880195618\n",
      "(0.7400408127051725, 0.7400408127051725)\n",
      "Epoch 77\n",
      "Loss : 0.7625837326049805\n",
      "(0.740715109573241, 0.740715109573241)\n",
      "Epoch 78\n",
      "Loss : 0.5490795373916626\n",
      "(0.7412829385147724, 0.7412829385147724)\n",
      "Epoch 79\n",
      "Loss : 0.8072755336761475\n",
      "(0.7416378316032295, 0.7416378316032295)\n",
      "Epoch 80\n",
      "Loss : 0.7554095387458801\n",
      "(0.7423831070889895, 0.7423831070889895)\n",
      "Epoch 81\n",
      "Loss : 0.8889859914779663\n",
      "(0.7432525951557093, 0.7432525951557093)\n",
      "Epoch 82\n",
      "Loss : 0.7655122876167297\n",
      "(0.7436784668618579, 0.7436784668618579)\n",
      "Epoch 83\n",
      "Loss : 0.7586708664894104\n",
      "(0.7443172744210806, 0.7443172744210806)\n",
      "Epoch 84\n",
      "Loss : 0.6950439214706421\n",
      "(0.7448141247449206, 0.7448141247449206)\n",
      "Epoch 85\n",
      "Loss : 0.5651665329933167\n",
      "(0.7450980392156863, 0.7450980392156863)\n",
      "Epoch 86\n",
      "Loss : 0.6064342856407166\n",
      "(0.7456836128116405, 0.7456836128116405)\n",
      "Epoch 87\n",
      "Loss : 0.7324859499931335\n",
      "(0.7463401650252861, 0.7463401650252861)\n",
      "Epoch 88\n",
      "Loss : 0.5877944231033325\n",
      "(0.7468015260402804, 0.7468015260402804)\n",
      "Epoch 89\n",
      "Loss : 0.700698971748352\n",
      "(0.7474048442906575, 0.7474048442906575)\n",
      "Epoch 90\n",
      "Loss : 0.7807703018188477\n",
      "(0.7481501197764173, 0.7481501197764173)\n",
      "Epoch 91\n",
      "Loss : 0.659907341003418\n",
      "(0.7487356933723716, 0.7487356933723716)\n",
      "Epoch 92\n",
      "Loss : 0.9053624272346497\n",
      "(0.7492680330050572, 0.7492680330050572)\n",
      "Epoch 93\n",
      "Loss : 0.5887786746025085\n",
      "(0.74990684056428, 0.74990684056428)\n",
      "Epoch 94\n",
      "Loss : 0.8548519611358643\n",
      "(0.7505633927779256, 0.7505633927779256)\n",
      "Epoch 95\n",
      "Loss : 0.9626061320304871\n",
      "(0.7509892644840742, 0.7509892644840742)\n",
      "Epoch 96\n",
      "Loss : 1.008317232131958\n",
      "(0.7514683701534912, 0.7514683701534912)\n",
      "Epoch 97\n",
      "Loss : 0.7026602625846863\n",
      "(0.7520361990950226, 0.7520361990950226)\n",
      "Epoch 98\n",
      "Loss : 0.5918858647346497\n",
      "(0.7524088368379026, 0.7524088368379026)\n",
      "Epoch 99\n",
      "Loss : 0.7727240920066833\n",
      "(0.7528524531984739, 0.7528524531984739)\n",
      "Epoch 100\n",
      "Loss : 0.948410153388977\n",
      "(0.7532250909413539, 0.7532250909413539)\n"
     ]
    }
   ],
   "source": [
    "epoch_loses = []\n",
    "training_accuracies = []\n",
    "i = 0;\n",
    "for i in range(TRAINING_EPOCHS):\n",
    "    print(f\"Epoch {i+1}\")\n",
    "\n",
    "    epoch_loss = epoch_train(model, optimizer, BATCH_SIZE, train_queries, train_tables)\n",
    "    epoch_loses.append(epoch_loss)\n",
    "\n",
    "    #print(epoch_loses)\n",
    "\n",
    "    print(f\"Loss : {epoch_loss}\")\n",
    "\n",
    "    training_accuracy = epoch_acc(model, BATCH_SIZE, train_queries, train_tables)\n",
    "    training_accuracies.append(training_accuracy)\n",
    "    print(training_accuracy)"
   ]
  },
  {
   "cell_type": "code",
   "execution_count": 180,
   "id": "5552354b",
   "metadata": {},
   "outputs": [],
   "source": [
    "def plot_curve(x_item, y_item, item_name, dataLength, format='png'):\n",
    "    \n",
    "#     y = list(i.data.cpu().numpy().tolist() for i in item)\n",
    "#     x = list(range(TRAINING_EPOCHS))\n",
    "    if isinstance(x_item, GeneratorType):\n",
    "        x_item = list(x_item)\n",
    "    if isinstance(x_item, int):\n",
    "        x_item = list(range(x_item))\n",
    "    plt.plot(x_item, y_item)\n",
    "\n",
    "    plt.xlabel(\"EPOCHS\")\n",
    "    plt.ylabel(item_name)\n",
    "\n",
    "    #plt.show()\n",
    "    time = datetime.now()\n",
    "    day_time_str= time.strftime(\"%H%M%S-%d%m%Y\")\n",
    "    \n",
    "    plt.savefig(f'./Graphs/{day_time_str}_{len(y_item)}EP_{dataLength}trainingqueries_{item_name}.{format}',dpi=300, format=format)\n",
    "    plt.show()\n",
    "    return \n"
   ]
  },
  {
   "cell_type": "code",
   "execution_count": 185,
   "id": "efe0cb9a",
   "metadata": {},
   "outputs": [
    {
     "data": {
      "image/png": "[encoded data removed]",
      "text/plain": [
       "<Figure size 640x480 with 1 Axes>"
      ]
     },
     "metadata": {},
     "output_type": "display_data"
    },
    {
     "data": {
      "image/png": "[encoded data removed]",
      "text/plain": [
       "<Figure size 640x480 with 1 Axes>"
      ]
     },
     "metadata": {},
     "output_type": "display_data"
    }
   ],
   "source": [
    "lossList = list(i.data.cpu().numpy().tolist() for i in epoch_loses)\n",
    "accuracy = list(x for x,y in training_accuracies)\n",
    "plot_curve(TRAINING_EPOCHS, lossList,\"Loss\",len(train_queries),format='svg')\n",
    "plot_curve(range(TRAINING_EPOCHS), accuracy,\"Accuracy\",len(train_queries),format='svg')"
   ]
  },
  {
   "cell_type": "code",
   "execution_count": 189,
   "id": "4ae0734d",
   "metadata": {},
   "outputs": [
    {
     "name": "stdout",
     "output_type": "stream",
     "text": [
      "[{'agg': 0}, {'agg': 0}, {'agg': 0}, {'agg': 0}, {'agg': 3}, {'agg': 0}, {'agg': 0}, {'agg': 3}, {'agg': 3}, {'agg': 0}, {'agg': 0}, {'agg': 0}, {'agg': 0}, {'agg': 0}, {'agg': 0}, {'agg': 0}, {'agg': 0}, {'agg': 0}, {'agg': 0}, {'agg': 3}, {'agg': 0}, {'agg': 0}, {'agg': 0}, {'agg': 0}, {'agg': 0}, {'agg': 0}, {'agg': 0}, {'agg': 0}, {'agg': 0}, {'agg': 0}, {'agg': 0}, {'agg': 0}, {'agg': 0}, {'agg': 0}, {'agg': 0}, {'agg': 0}, {'agg': 0}, {'agg': 0}, {'agg': 0}, {'agg': 0}, {'agg': 3}, {'agg': 3}, {'agg': 0}, {'agg': 3}, {'agg': 0}, {'agg': 0}, {'agg': 3}, {'agg': 0}, {'agg': 0}, {'agg': 0}, {'agg': 0}, {'agg': 3}, {'agg': 0}, {'agg': 0}, {'agg': 0}, {'agg': 0}, {'agg': 0}, {'agg': 0}, {'agg': 0}, {'agg': 0}, {'agg': 0}, {'agg': 0}, {'agg': 0}, {'agg': 0}, {'agg': 3}, {'agg': 0}, {'agg': 0}, {'agg': 0}, {'agg': 3}, {'agg': 0}, {'agg': 0}, {'agg': 0}, {'agg': 0}, {'agg': 3}, {'agg': 0}, {'agg': 0}, {'agg': 0}, {'agg': 0}, {'agg': 0}, {'agg': 0}, {'agg': 0}, {'agg': 0}, {'agg': 0}, {'agg': 0}, {'agg': 0}, {'agg': 0}, {'agg': 0}, {'agg': 0}, {'agg': 0}, {'agg': 0}, {'agg': 3}, {'agg': 0}, {'agg': 0}, {'agg': 0}, {'agg': 0}, {'agg': 0}, {'agg': 0}, {'agg': 0}, {'agg': 0}, {'agg': 0}, {'agg': 0}, {'agg': 3}, {'agg': 0}, {'agg': 0}, {'agg': 3}, {'agg': 3}, {'agg': 3}, {'agg': 0}, {'agg': 0}, {'agg': 0}, {'agg': 0}, {'agg': 0}, {'agg': 0}, {'agg': 0}, {'agg': 0}, {'agg': 0}, {'agg': 0}, {'agg': 3}, {'agg': 3}, {'agg': 3}, {'agg': 3}, {'agg': 3}, {'agg': 0}, {'agg': 0}, {'agg': 0}, {'agg': 0}, {'agg': 0}, {'agg': 0}]\n"
     ]
    }
   ],
   "source": [
    "model.eval()\n",
    "perm = list(range(len(train_queries)))\n",
    "start = 0\n",
    "one_acc_num = 0\n",
    "\n",
    "#while start < len(train_queries):\n",
    "end = start + BATCH_SIZE if start + BATCH_SIZE < len(perm) else len(perm)\n",
    "\n",
    "q_seq, col_seq, col_num, ans_seq, query_seq, ground_truth_cond_seq, raw_data = gen_batch_sequence(train_queries, train_tables, perm, start, end)\n",
    "\n",
    "\n",
    "raw_q_seq = [x[0] for x in raw_data]\n",
    "raw_col_seq = [x[1] for x in raw_data]\n",
    "\n",
    "query_gt = []\n",
    "table_id = []\n",
    "\n",
    "for i in range(start, end):\n",
    "        query_gt.append(train_queries[perm[i]]['sql'])\n",
    "        table_id.append(train_queries[perm[i]]['table_id'])\n",
    "\n",
    "ground_truth_sel_seq = [x[1] for x in ans_seq]\n",
    "score = model.forward(q_seq, col_seq, )\n",
    "\n",
    "\n",
    "B = len(q_seq)\n",
    "agg_score = score[0]\n",
    "ret_queries = []\n",
    "cur_query = {}\n",
    "\n",
    "agg_pred = np.argmax(agg_score.data.cpu().numpy(),axis = 1)\n",
    "pred_queries = []\n",
    "for i in range(len(agg_pred)):\n",
    "    pred_queries.append({'agg':agg_pred[i]})\n",
    "print(pred_queries)    \n",
    "#get the ground truth queries.\n",
    "# for b in range(B):\n",
    "# #     print(agg_score.shape)\n",
    "#     cur_query['agg'] = np.argmax(agg_score[b].data.cpu().numpy())\n",
    "#     ret_queries.append(cur_query)\n",
    "# pred_query = ret_queries\n",
    "# tot_err = agg_err = 0.0\n",
    "    \n",
    "# one_err, tot_err = model.check_accuracy(pred_queries, query_gt)\n",
    "# print(one_err, tot_err)\n",
    "\n",
    "#print(pred_queries, )\n"
   ]
  },
  {
   "cell_type": "code",
   "execution_count": 192,
   "id": "91702375",
   "metadata": {},
   "outputs": [
    {
     "name": "stdout",
     "output_type": "stream",
     "text": [
      "Iteration answer\n",
      "[0, 0, 0, 0, 0, 0, 0, 0, 0, 0, 0, 0, 0, 0, 0, 0, 0, 0, 0, 0, 0, 0, 0, 0, 0, 0, 0, 0, 0, 0, 0, 0, 0, 0, 0, 0, 0, 0, 0, 0, 0, 0, 0, 0, 0, 0, 0, 0, 0, 0, 0, 0, 0, 0, 0, 0, 0, 0, 0, 0, 0, 0, 0, 0, 0, 0, 0, 0, 0, 0, 0, 0, 0, 0, 0, 0, 0, 0, 0, 0, 0, 0, 0, 0, 0, 0, 0, 0, 0, 0, 0, 0, 0, 0, 0, 0, 0, 0, 0, 0, 0, 0, 0, 0, 0, 0, 0, 0, 0, 0, 0, 0, 0, 0, 0, 0, 0, 0, 0, 0, 0, 0, 0, 0, 0, 0, 0, 0]\n",
      "Broadcast answer\n",
      "[0, 0, 0, 0, 3, 0, 0, 3, 3, 0, 0, 0, 0, 0, 0, 0, 0, 0, 0, 3, 0, 0, 0, 0, 0, 0, 0, 0, 0, 0, 0, 0, 0, 0, 0, 0, 0, 0, 0, 0, 3, 3, 0, 3, 0, 0, 3, 0, 0, 0, 0, 3, 0, 0, 0, 0, 0, 0, 0, 0, 0, 0, 0, 0, 3, 0, 0, 0, 3, 0, 0, 0, 0, 3, 0, 0, 0, 0, 0, 0, 0, 0, 0, 0, 0, 0, 0, 0, 0, 0, 3, 0, 0, 0, 0, 0, 0, 0, 0, 0, 0, 3, 0, 0, 3, 3, 3, 0, 0, 0, 0, 0, 0, 0, 0, 0, 0, 3, 3, 3, 3, 3, 0, 0, 0, 0, 0, 0]\n",
      "Ground Truth\n",
      "[0, 0, 0, 0, 3, 0, 0, 3, 3, 0, 0, 0, 0, 0, 0, 0, 0, 0, 0, 3, 0, 0, 0, 2, 0, 0, 0, 0, 0, 0, 0, 0, 0, 0, 0, 0, 0, 0, 3, 0, 0, 3, 0, 1, 2, 0, 3, 0, 0, 0, 0, 3, 0, 0, 0, 2, 0, 0, 0, 0, 0, 0, 0, 0, 1, 0, 0, 0, 2, 0, 0, 1, 0, 3, 3, 2, 3, 0, 3, 0, 0, 0, 3, 0, 2, 0, 0, 0, 0, 0, 3, 0, 2, 3, 1, 0, 0, 3, 0, 0, 0, 3, 0, 0, 2, 3, 1, 2, 0, 0, 0, 0, 0, 0, 0, 0, 0, 0, 2, 3, 0, 2, 0, 0, 0, 2, 0, 0]\n",
      "\n",
      "True values in iteration: 92\n",
      "True values in broadcast: 101\n"
     ]
    }
   ],
   "source": [
    "pred_queries = np.argmax(agg_score.data.cpu().numpy(),axis = 1)\n",
    "ret_queries = []\n",
    "for b in range(B):\n",
    "#     print(agg_score.shape)\n",
    "    cur_query['agg'] = np.argmax(agg_score[b].data.cpu().numpy())\n",
    "    ret_queries.append(cur_query)\n",
    "    \n",
    "ite_list = list(x['agg'] for x in ret_queries)    \n",
    "print(f\"Iteration answer\\n{ite_list}\")\n",
    "print(f\"Broadcast answer\\n{ pred_queries.tolist()}\")\n",
    "print(f\"Ground Truth\\n{list(query_gt[x]['agg'] for x in range(len(query_gt)))}\")\n",
    "\n",
    "\n",
    "true_in_ite = len(list(x for x in range(len(query_gt)) if ret_queries[x]['agg'] == query_gt[x]['agg']))\n",
    "true_in_brd = len(list(x for x in range(len(query_gt)) if pred_queries[x] == query_gt[x]['agg']))\n",
    "print(f\"\\nTrue values in iteration: {true_in_ite}\\nTrue values in broadcast: {true_in_brd}\")"
   ]
  },
  {
   "cell_type": "code",
   "execution_count": 193,
   "id": "42ddef28",
   "metadata": {},
   "outputs": [],
   "source": [
    "bre_pred = pred_queries.tolist()\n",
    "agg_score_list = agg_score.data.cpu().numpy().tolist()\n",
    "\n",
    "for i in range(len(ite_list)):\n",
    "    if ite_list[i] == bre_pred[i]:\n",
    "        print(\"Both values are same\")\n",
    "    elif(agg_score_list[i][ite_list[i]] > agg_score_list[i][bre_pred[i]]):\n",
    "        print(\"Iterator is correct\")\n",
    "    else:\n",
    "        print(\"Iteration is wrog\")"
   ]
  },
  {
   "cell_type": "code",
   "execution_count": 54,
   "id": "f8341a6e",
   "metadata": {},
   "outputs": [
    {
     "name": "stdout",
     "output_type": "stream",
     "text": [
      "0.0390625\n"
     ]
    }
   ],
   "source": [
    "agg_list = list(query_gt[i]['agg'] == pred_query[i]['agg'] for i in range(len(query_gt)))\n",
    "good_list = list(query_gt[i] for i in range(len(agg_list)) if agg_list[i] == True)\n",
    "print(len(good_list)/len(query_gt))"
   ]
  },
  {
   "cell_type": "code",
   "execution_count": 55,
   "id": "88833dbe",
   "metadata": {},
   "outputs": [
    {
     "name": "stdout",
     "output_type": "stream",
     "text": [
      "Item 0:\n",
      "predicted 0 as wrong item\n",
      "Item 1:\n",
      "predicted 1 as wrong item\n",
      "Item 2:\n",
      "predicted 2 as wrong item\n",
      "Item 3:\n",
      "predicted 3 as wrong item\n",
      "Item 4:\n",
      "predicted 4 as wrong item\n",
      "Item 5:\n",
      "predicted 5 as wrong item\n",
      "Item 6:\n",
      "predicted 6 as wrong item\n",
      "Item 7:\n",
      "predicted 7 as wrong item\n",
      "Item 8:\n",
      "predicted 8 as wrong item\n",
      "Item 9:\n",
      "predicted 9 as wrong item\n",
      "Item 10:\n",
      "predicted 10 as wrong item\n",
      "Item 11:\n",
      "predicted 11 as wrong item\n",
      "Item 12:\n",
      "predicted 12 as wrong item\n",
      "Item 13:\n",
      "predicted 13 as wrong item\n",
      "Item 14:\n",
      "predicted 14 as wrong item\n",
      "Item 15:\n",
      "predicted 15 as wrong item\n",
      "Item 16:\n",
      "predicted 16 as wrong item\n",
      "Item 17:\n",
      "predicted 17 as wrong item\n",
      "Item 18:\n",
      "predicted 18 as wrong item\n",
      "Item 19:\n",
      "predicted 19 as wrong item\n",
      "Item 20:\n",
      "predicted 20 as wrong item\n",
      "Item 21:\n",
      "predicted 21 as wrong item\n",
      "Item 22:\n",
      "predicted 22 as wrong item\n",
      "Item 23:\n",
      "predicted 23 as wrong item\n",
      "Item 24:\n",
      "predicted 24 as wrong item\n",
      "Item 25:\n",
      "predicted 25 as wrong item\n",
      "Item 26:\n",
      "predicted 26 as wrong item\n",
      "Item 27:\n",
      "predicted 27 as wrong item\n",
      "Item 28:\n",
      "predicted 28 as wrong item\n",
      "Item 29:\n",
      "predicted 29 as wrong item\n",
      "Item 30:\n",
      "predicted 30 as wrong item\n",
      "Item 31:\n",
      "predicted 31 as wrong item\n",
      "Item 32:\n",
      "predicted 32 as wrong item\n",
      "Item 33:\n",
      "predicted 33 as wrong item\n",
      "Item 34:\n",
      "predicted 34 as wrong item\n",
      "Item 35:\n",
      "predicted 35 as wrong item\n",
      "Item 36:\n",
      "predicted 36 as wrong item\n",
      "Item 37:\n",
      "predicted 37 as wrong item\n",
      "Item 38:\n",
      "predicted 38 as wrong item\n",
      "Item 39:\n",
      "predicted 39 as wrong item\n",
      "Item 40:\n",
      "predicted 40 as wrong item\n",
      "Item 41:\n",
      "predicted 41 as wrong item\n",
      "Item 42:\n",
      "predicted 42 as wrong item\n",
      "Item 43:\n",
      "predicted 43 as wrong item\n",
      "Item 44:\n",
      "predicted 44 as wrong item\n",
      "Item 45:\n",
      "predicted 45 as wrong item\n",
      "Item 46:\n",
      "predicted 46 as wrong item\n",
      "Item 47:\n",
      "predicted 47 as wrong item\n",
      "Item 48:\n",
      "predicted 48 as wrong item\n",
      "Item 49:\n",
      "predicted 49 as wrong item\n",
      "Item 50:\n",
      "predicted 50 as wrong item\n",
      "Item 51:\n",
      "predicted 51 as wrong item\n",
      "Item 52:\n",
      "predicted 52 as wrong item\n",
      "Item 53:\n",
      "predicted 53 as wrong item\n",
      "Item 54:\n",
      "predicted 54 as wrong item\n",
      "Item 55:\n",
      "predicted 55 as wrong item\n",
      "Item 56:\n",
      "predicted 56 as wrong item\n",
      "Item 57:\n",
      "predicted 57 as wrong item\n",
      "Item 58:\n",
      "predicted 58 as wrong item\n",
      "Item 59:\n",
      "predicted 59 as wrong item\n",
      "Item 60:\n",
      "predicted 60 as wrong item\n",
      "Item 61:\n",
      "predicted 61 as wrong item\n",
      "Item 62:\n",
      "predicted 62 as wrong item\n",
      "Item 63:\n",
      "predicted 63 as wrong item\n",
      "Item 64:\n",
      "predicted 64 as wrong item\n",
      "Item 65:\n",
      "predicted 65 as wrong item\n",
      "Item 66:\n",
      "predicted 66 as wrong item\n",
      "Item 67:\n",
      "predicted 67 as wrong item\n",
      "Item 68:\n",
      "predicted 68 as wrong item\n",
      "Item 69:\n",
      "predicted 69 as wrong item\n",
      "Item 70:\n",
      "predicted 70 as wrong item\n",
      "Item 71:\n",
      "predicted 71 as wrong item\n",
      "Item 72:\n",
      "predicted 72 as wrong item\n",
      "Item 73:\n",
      "predicted 73 as wrong item\n",
      "Item 74:\n",
      "predicted 74 as wrong item\n",
      "Item 75:\n",
      "predicted 75 as wrong item\n",
      "Item 76:\n",
      "predicted 76 as wrong item\n",
      "Item 77:\n",
      "Item 78:\n",
      "predicted 78 as wrong item\n",
      "Item 79:\n",
      "Item 80:\n",
      "predicted 80 as wrong item\n",
      "Item 81:\n",
      "predicted 81 as wrong item\n",
      "Item 82:\n",
      "predicted 82 as wrong item\n",
      "Item 83:\n",
      "predicted 83 as wrong item\n",
      "Item 84:\n",
      "predicted 84 as wrong item\n",
      "Item 85:\n",
      "predicted 85 as wrong item\n",
      "Item 86:\n",
      "predicted 86 as wrong item\n",
      "Item 87:\n",
      "predicted 87 as wrong item\n",
      "Item 88:\n",
      "predicted 88 as wrong item\n",
      "Item 89:\n",
      "predicted 89 as wrong item\n",
      "Item 90:\n",
      "predicted 90 as wrong item\n",
      "Item 91:\n",
      "predicted 91 as wrong item\n",
      "Item 92:\n",
      "Item 93:\n",
      "predicted 93 as wrong item\n",
      "Item 94:\n",
      "predicted 94 as wrong item\n",
      "Item 95:\n",
      "predicted 95 as wrong item\n",
      "Item 96:\n",
      "Item 97:\n",
      "predicted 97 as wrong item\n",
      "Item 98:\n",
      "predicted 98 as wrong item\n",
      "Item 99:\n",
      "predicted 99 as wrong item\n",
      "Item 100:\n",
      "predicted 100 as wrong item\n",
      "Item 101:\n",
      "predicted 101 as wrong item\n",
      "Item 102:\n",
      "predicted 102 as wrong item\n",
      "Item 103:\n",
      "predicted 103 as wrong item\n",
      "Item 104:\n",
      "predicted 104 as wrong item\n",
      "Item 105:\n",
      "predicted 105 as wrong item\n",
      "Item 106:\n",
      "predicted 106 as wrong item\n",
      "Item 107:\n",
      "predicted 107 as wrong item\n",
      "Item 108:\n",
      "predicted 108 as wrong item\n",
      "Item 109:\n",
      "Item 110:\n",
      "predicted 110 as wrong item\n",
      "Item 111:\n",
      "predicted 111 as wrong item\n",
      "Item 112:\n",
      "predicted 112 as wrong item\n",
      "Item 113:\n",
      "predicted 113 as wrong item\n",
      "Item 114:\n",
      "predicted 114 as wrong item\n",
      "Item 115:\n",
      "predicted 115 as wrong item\n",
      "Item 116:\n",
      "predicted 116 as wrong item\n",
      "Item 117:\n",
      "predicted 117 as wrong item\n",
      "Item 118:\n",
      "predicted 118 as wrong item\n",
      "Item 119:\n",
      "predicted 119 as wrong item\n",
      "Item 120:\n",
      "predicted 120 as wrong item\n",
      "Item 121:\n",
      "predicted 121 as wrong item\n",
      "Item 122:\n",
      "predicted 122 as wrong item\n",
      "Item 123:\n",
      "predicted 123 as wrong item\n",
      "Item 124:\n",
      "predicted 124 as wrong item\n",
      "Item 125:\n",
      "predicted 125 as wrong item\n",
      "Item 126:\n",
      "predicted 126 as wrong item\n",
      "Item 127:\n",
      "predicted 127 as wrong item\n"
     ]
    }
   ],
   "source": [
    "for b, (pred_query, ground_truth_qry) in enumerate(zip(pred_query, query_gt)):\n",
    "        good = True\n",
    "        print(f\"Item {b}:\")\n",
    "        agg_pred = pred_query['agg']\n",
    "        agg_gt =  ground_truth_qry['agg']\n",
    "        \n",
    "        if(agg_pred != agg_gt):\n",
    "            print(f\"predicted {b} as wrong item\")\n",
    "            good = False\n",
    "if good == False:\n",
    "    tot_err += 1"
   ]
  },
  {
   "cell_type": "code",
   "execution_count": null,
   "id": "93f89efb",
   "metadata": {},
   "outputs": [],
   "source": [
    "def epoch_acc(model, batch_size, sql_data, table_data, save_results = False):\n",
    "    model.eval()\n",
    "    perm = list(range(len(sql_data)))\n",
    "    start = 0\n",
    "    one_acc_num = 0.0\n",
    "    while start < len(sql_data):\n",
    "        end = start + batch_size if start + batch_size < len(perm) else len(perm)\n",
    "\n",
    "        q_seq, col_seq, col_num, ans_seq, query_seq, ground_truth_cond_seq, raw_data =\\\n",
    "            gen_batch_sequence(sql_data, table_data, perm, start, end)\n",
    "        \n",
    "        raw_q_seq = [x[0] for x in raw_data]\n",
    "        raw_col_seq = [x[1] for x in raw_data]\n",
    "        \n",
    "        query_gt, table_ids = generate_batch_query(sql_data, perm, start, end)\n",
    "        ground_truth_sel_seq = [x[1] for x in ans_seq]\n",
    "        \n",
    "        score = model.forward(q_seq, col_seq, )\n",
    "        pred_queries = model.gen_query(score, q_seq, col_seq,\n",
    "                                       raw_q_seq, raw_col_seq)\n",
    "        one_err, tot_err = model.check_accuracy(pred_queries, query_gt)\n",
    "        \n",
    "        one_acc_num += (end - start - one_err)\n",
    "        tot_acc_num += (end - start - tot_err)\n",
    "        \n",
    "        start = end\n",
    "        \n",
    "        return tot_acc_num/ len(sql_data), one_acc_num/len(sql_data)"
   ]
  },
  {
   "cell_type": "code",
   "execution_count": 202,
   "id": "2905c03c",
   "metadata": {},
   "outputs": [],
   "source": [
    "torch.save(model.aggregator, \"Trained_aggregator_03032023_100EP_FullWikiSQL.pt\")"
   ]
  },
  {
   "cell_type": "code",
   "execution_count": null,
   "id": "dbe193f6",
   "metadata": {},
   "outputs": [],
   "source": []
  }
 ],
 "metadata": {
  "kernelspec": {
   "display_name": "Python 3 (ipykernel)",
   "language": "python",
   "name": "python3"
  },
  "language_info": {
   "codemirror_mode": {
    "name": "ipython",
    "version": 3
   },
   "file_extension": ".py",
   "mimetype": "text/x-python",
   "name": "python",
   "nbconvert_exporter": "python",
   "pygments_lexer": "ipython3",
   "version": "3.8.15"
  }
 },
 "nbformat": 4,
 "nbformat_minor": 5
}
